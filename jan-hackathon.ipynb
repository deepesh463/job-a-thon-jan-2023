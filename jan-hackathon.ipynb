{
 "cells": [
  {
   "cell_type": "code",
   "execution_count": 1,
   "id": "da29e5fa",
   "metadata": {},
   "outputs": [],
   "source": [
    "import pandas as pd\n",
    "import numpy as np\n",
    "from catboost import CatBoostClassifier,CatBoostRegressor\n",
    "from sklearn.model_selection import StratifiedKFold, TimeSeriesSplit\n",
    "from sklearn.preprocessing import LabelEncoder\n",
    "import optuna \n",
    "from optuna import Trial \n",
    "import lightgbm as lgb \n",
    "from sklearn.metrics import log_loss,mean_squared_error\n",
    "from sklearn.preprocessing import MinMaxScaler\n",
    "from sklearn.linear_model import LogisticRegression\n",
    "#from imblearn.under_sampling import ClusterCentroids,TomekLinks,RandomUnderSampler\n",
    "import xgboost as xgb\n",
    "from sklearn.linear_model import LogisticRegression\n",
    "from lightgbm import LGBMClassifier,LGBMRegressor\n",
    "from sklearn.metrics import r2_score\n",
    "from sklearn.metrics import r2_score\n",
    "import seaborn as sns\n",
    "\n",
    "from tqdm import tqdm\n",
    "\n",
    "import xgboost as xgb\n",
    "from sklearn.metrics import recall_score\n",
    "from sklearn.model_selection import RandomizedSearchCV\n",
    "\n",
    "\n",
    "sns.set()\n",
    "\n",
    "import warnings\n",
    "warnings.filterwarnings(\"ignore\")\n",
    "from sklearn.model_selection import train_test_split"
   ]
  },
  {
   "cell_type": "code",
   "execution_count": 77,
   "id": "526f8983",
   "metadata": {},
   "outputs": [],
   "source": [
    "train = pd.read_csv(r'C:\\Users\\Deepesh\\Desktop\\ML_notebooks\\jan-hackathon\\train_BRCpofr.csv')#test_koRSKBP"
   ]
  },
  {
   "cell_type": "code",
   "execution_count": 78,
   "id": "e3c3fc7e",
   "metadata": {},
   "outputs": [],
   "source": [
    "test = pd.read_csv(r'C:\\Users\\Deepesh\\Desktop\\ML_notebooks\\jan-hackathon\\test_koRSKBP.csv')"
   ]
  },
  {
   "cell_type": "code",
   "execution_count": 79,
   "id": "221fca29",
   "metadata": {},
   "outputs": [
    {
     "data": {
      "text/html": [
       "<div>\n",
       "<style scoped>\n",
       "    .dataframe tbody tr th:only-of-type {\n",
       "        vertical-align: middle;\n",
       "    }\n",
       "\n",
       "    .dataframe tbody tr th {\n",
       "        vertical-align: top;\n",
       "    }\n",
       "\n",
       "    .dataframe thead th {\n",
       "        text-align: right;\n",
       "    }\n",
       "</style>\n",
       "<table border=\"1\" class=\"dataframe\">\n",
       "  <thead>\n",
       "    <tr style=\"text-align: right;\">\n",
       "      <th></th>\n",
       "      <th>id</th>\n",
       "      <th>marital_status</th>\n",
       "      <th>vintage</th>\n",
       "      <th>claim_amount</th>\n",
       "      <th>cltv</th>\n",
       "    </tr>\n",
       "  </thead>\n",
       "  <tbody>\n",
       "    <tr>\n",
       "      <th>count</th>\n",
       "      <td>89392.00</td>\n",
       "      <td>89392.00</td>\n",
       "      <td>89392.00</td>\n",
       "      <td>89392.00</td>\n",
       "      <td>89392.00</td>\n",
       "    </tr>\n",
       "    <tr>\n",
       "      <th>mean</th>\n",
       "      <td>44696.50</td>\n",
       "      <td>0.58</td>\n",
       "      <td>4.60</td>\n",
       "      <td>4351.50</td>\n",
       "      <td>97952.83</td>\n",
       "    </tr>\n",
       "    <tr>\n",
       "      <th>std</th>\n",
       "      <td>25805.39</td>\n",
       "      <td>0.49</td>\n",
       "      <td>2.29</td>\n",
       "      <td>3262.36</td>\n",
       "      <td>90613.81</td>\n",
       "    </tr>\n",
       "    <tr>\n",
       "      <th>min</th>\n",
       "      <td>1.00</td>\n",
       "      <td>0.00</td>\n",
       "      <td>0.00</td>\n",
       "      <td>0.00</td>\n",
       "      <td>24828.00</td>\n",
       "    </tr>\n",
       "    <tr>\n",
       "      <th>25%</th>\n",
       "      <td>22348.75</td>\n",
       "      <td>0.00</td>\n",
       "      <td>3.00</td>\n",
       "      <td>2406.00</td>\n",
       "      <td>52836.00</td>\n",
       "    </tr>\n",
       "    <tr>\n",
       "      <th>50%</th>\n",
       "      <td>44696.50</td>\n",
       "      <td>1.00</td>\n",
       "      <td>5.00</td>\n",
       "      <td>4089.00</td>\n",
       "      <td>66396.00</td>\n",
       "    </tr>\n",
       "    <tr>\n",
       "      <th>75%</th>\n",
       "      <td>67044.25</td>\n",
       "      <td>1.00</td>\n",
       "      <td>6.00</td>\n",
       "      <td>6094.00</td>\n",
       "      <td>103440.00</td>\n",
       "    </tr>\n",
       "    <tr>\n",
       "      <th>max</th>\n",
       "      <td>89392.00</td>\n",
       "      <td>1.00</td>\n",
       "      <td>8.00</td>\n",
       "      <td>31894.00</td>\n",
       "      <td>724068.00</td>\n",
       "    </tr>\n",
       "  </tbody>\n",
       "</table>\n",
       "</div>"
      ],
      "text/plain": [
       "            id  marital_status  vintage  claim_amount      cltv\n",
       "count 89392.00        89392.00 89392.00      89392.00  89392.00\n",
       "mean  44696.50            0.58     4.60       4351.50  97952.83\n",
       "std   25805.39            0.49     2.29       3262.36  90613.81\n",
       "min       1.00            0.00     0.00          0.00  24828.00\n",
       "25%   22348.75            0.00     3.00       2406.00  52836.00\n",
       "50%   44696.50            1.00     5.00       4089.00  66396.00\n",
       "75%   67044.25            1.00     6.00       6094.00 103440.00\n",
       "max   89392.00            1.00     8.00      31894.00 724068.00"
      ]
     },
     "execution_count": 79,
     "metadata": {},
     "output_type": "execute_result"
    }
   ],
   "source": [
    "train.describe()"
   ]
  },
  {
   "cell_type": "code",
   "execution_count": 80,
   "id": "a0bd7b4b",
   "metadata": {},
   "outputs": [
    {
     "data": {
      "text/plain": [
       "Index(['id', 'gender', 'area', 'qualification', 'income', 'marital_status',\n",
       "       'vintage', 'claim_amount', 'num_policies', 'policy', 'type_of_policy',\n",
       "       'cltv'],\n",
       "      dtype='object')"
      ]
     },
     "execution_count": 80,
     "metadata": {},
     "output_type": "execute_result"
    }
   ],
   "source": [
    "train.columns"
   ]
  },
  {
   "cell_type": "code",
   "execution_count": 81,
   "id": "6d122953",
   "metadata": {},
   "outputs": [],
   "source": [
    "train['gender'] = train['gender'].map({'Male':1,'Female':0})\n",
    "train['income'] = train['income'].map({'<=2L':0,'2L-5L':1,'5L-10L':2,'More than 10L':3})\n",
    "train['num_policies'] = train['num_policies'].map({'1':0,'More than 1':1})\n",
    "train['policy'] = train['policy'].map({'A':0,'B':1,'C':2})\n",
    "train['type_of_policy'] = train['type_of_policy'].map({'Platinum':2,'Silver':0,'Gold':1})\n",
    "train['area'] = train['area'].map({'Urban':1,'Rural':0})\n",
    "train['qualification'] = train['qualification'].map({'High School':0,'Bachelor':1,'Others':2})"
   ]
  },
  {
   "cell_type": "code",
   "execution_count": 82,
   "id": "8f349fe7",
   "metadata": {},
   "outputs": [],
   "source": [
    "test['gender'] = test['gender'].map({'Male':1,'Female':0})\n",
    "test['income'] = test['income'].map({'<=2L':0,'2L-5L':1,'5L-10L':2,'More than 10L':3})\n",
    "test['num_policies'] = test['num_policies'].map({'1':0,'More than 1':1})\n",
    "test['policy'] = test['policy'].map({'A':0,'B':1,'C':2})\n",
    "test['type_of_policy'] = test['type_of_policy'].map({'Platinum':2,'Silver':0,'Gold':1})\n",
    "test['area'] = test['area'].map({'Urban':1,'Rural':0})\n",
    "test['qualification'] = test['qualification'].map({'High School':0,'Bachelor':1,'Others':2})"
   ]
  },
  {
   "cell_type": "code",
   "execution_count": 100,
   "id": "eca4e7eb",
   "metadata": {},
   "outputs": [
    {
     "data": {
      "text/plain": [
       "<AxesSubplot:>"
      ]
     },
     "execution_count": 100,
     "metadata": {},
     "output_type": "execute_result"
    },
    {
     "data": {
      "image/png": "[encoded data removed]",
      "text/plain": [
       "<Figure size 432x288 with 2 Axes>"
      ]
     },
     "metadata": {},
     "output_type": "display_data"
    }
   ],
   "source": [
    "sns.heatmap(train.corr(),annot=False)"
   ]
  },
  {
   "cell_type": "code",
   "execution_count": 83,
   "id": "0f14cd4a",
   "metadata": {},
   "outputs": [
    {
     "data": {
      "text/plain": [
       "Index(['id', 'gender', 'area', 'qualification', 'income', 'marital_status',\n",
       "       'vintage', 'claim_amount', 'num_policies', 'policy', 'type_of_policy',\n",
       "       'cltv'],\n",
       "      dtype='object')"
      ]
     },
     "execution_count": 83,
     "metadata": {},
     "output_type": "execute_result"
    }
   ],
   "source": [
    "train.columns"
   ]
  },
  {
   "cell_type": "code",
   "execution_count": 184,
   "id": "50042a1f",
   "metadata": {},
   "outputs": [],
   "source": [
    "# original feature set don't touch\n",
    "features = [\n",
    "    'gender',\n",
    " 'area',\n",
    " 'qualification',\n",
    " 'income',\n",
    " 'marital_status',\n",
    " 'vintage',\n",
    " 'claim_amount',\n",
    " 'num_policies',\n",
    " 'policy',\n",
    " 'type_of_policy']\n"
   ]
  },
  {
   "cell_type": "code",
   "execution_count": 185,
   "id": "510cf6e1",
   "metadata": {},
   "outputs": [],
   "source": [
    "X_train, X_test, y_train, y_test = train_test_split(train[features], train['cltv'], test_size=0.2, random_state=42)"
   ]
  },
  {
   "attachments": {},
   "cell_type": "markdown",
   "id": "0d95e89f",
   "metadata": {},
   "source": [
    "## Feature Selection Code (not worked)"
   ]
  },
  {
   "cell_type": "code",
   "execution_count": 186,
   "id": "35b28e69",
   "metadata": {},
   "outputs": [],
   "source": [
    "# %time\n",
    "\n",
    "#from mlxtend.feature_selection import SequentialFeatureSelector\n",
    "#from sklearn.linear_model import LinearRegression\n",
    "# # Assume that X_train, X_test, y_train, y_test are the train and test data and labels\n",
    "\n",
    "# def objective(trial):\n",
    "#     # Define the parameter domain\n",
    "#     params = {\n",
    "#         'learning_rate': trial.suggest_loguniform('learning_rate', 0.01, 0.2),\n",
    "#         'num_leaves': trial.suggest_int('num_leaves', 20, 200),\n",
    "#         'feature_fraction': trial.suggest_uniform('feature_fraction', 0.5, 1.0),\n",
    "#         'bagging_fraction': trial.suggest_uniform('bagging_fraction', 0.5, 1.0),\n",
    "#         'bagging_freq': trial.suggest_int('bagging_freq', 1, 10),\n",
    "#     }\n",
    "\n",
    "#     # Create a LightGBM regressor\n",
    "#     regressor = lgb.LGBMRegressor(**params)\n",
    "\n",
    "#     # Fit the regressor on the training data\n",
    "#     regressor.fit(X_train, y_train)\n",
    "\n",
    "#     # Make predictions on the test data\n",
    "#     y_pred = regressor.predict(X_test)\n",
    "\n",
    "#     # Calculate the R-squared score\n",
    "#     r2 = r2_score(y_test, y_pred)\n",
    "\n",
    "#     return 1 - r2  # Optuna minimizes the objective, so we need to negate R-squared.\n",
    "\n",
    "\n",
    "# study = optuna.create_study(direction='maximize')\n",
    "# study.optimize(objective, n_trials=100)\n",
    "\n",
    "# print(\"Best parameters: \", study.best_params)\n",
    "# print(\"Best R-squared score: \", 1 - study.best_value)\n",
    "\n",
    "# # Use the best parameters to make predictions on the test data\n",
    "# regressor = lgb.LGBMRegressor(**study.best_params)\n",
    "# regressor.fit(X_train, y_train)\n",
    "# y_pred = regressor.predict(X_test)\n",
    "\n",
    "# # Calculate R-squared score on the test data\n",
    "# r2_test = r2_score(y_test, y_pred)\n",
    "# print(\"R-squared score on test data: \", r2_test)\n"
   ]
  },
  {
   "cell_type": "code",
   "execution_count": 187,
   "id": "30f5264f",
   "metadata": {},
   "outputs": [],
   "source": [
    "## will use this list set in .fit \n",
    "\n",
    "feat = [\n",
    " 'gender',\n",
    " 'area',\n",
    " 'qualification',\n",
    " 'income',\n",
    " 'marital_status',\n",
    " 'vintage',\n",
    " 'claim_amount',\n",
    " 'num_policies',\n",
    " 'policy',\n",
    " 'type_of_policy']\n"
   ]
  },
  {
   "attachments": {},
   "cell_type": "markdown",
   "id": "bac6ca57",
   "metadata": {},
   "source": [
    "## Feature Selection"
   ]
  },
  {
   "cell_type": "code",
   "execution_count": 188,
   "id": "ab514b28",
   "metadata": {},
   "outputs": [],
   "source": [
    "\n",
    "\n",
    "# # Assume that X_train and y_train are the training data and labels, respectively\n",
    "\n",
    "# # Initialize the feature selector\n",
    "# selector = SequentialFeatureSelector(m1, \n",
    "#                                      k_features=8,  # number of features to select\n",
    "#                                      forward=True,  # use forward selection\n",
    "#                                      scoring='r2',  # use R-squared score as the evaluation metric\n",
    "#                                      cv=5,n_jobs=-1)  # use 5-fold cross-validation\n",
    "\n",
    "# # Perform feature selection\n",
    "# #selector.fit(X_train, y_train)\n",
    "# selector.fit(X_train, y_train)#, iterations=tqdm(range(1, X_train.shape[1]+1)))\n",
    "\n",
    "# # Get the selected features\n",
    "# selected_features = list(selector.k_feature_idx_)\n",
    "\n",
    "# # Get the new data with only the selected features\n",
    "# new_feature_list = list(X_train.iloc[:, selected_features].columns)\n"
   ]
  },
  {
   "cell_type": "code",
   "execution_count": 189,
   "id": "23893a8c",
   "metadata": {},
   "outputs": [],
   "source": [
    "params ={'learning_rate': 0.04028787950144536, \n",
    "         'num_leaves': 7, \n",
    "         'bagging_freq': 15,\n",
    "         'min_child_samples': 550}"
   ]
  },
  {
   "cell_type": "code",
   "execution_count": 190,
   "id": "417ca610",
   "metadata": {},
   "outputs": [],
   "source": [
    "m1 =lgb.LGBMRegressor(random_state=46,min_child_samples = 550,num_leaves=7,learning_rate= 0.08028787950144536,n_estimators= 80)\n",
    "#m1 =lgb.LGBMRegressor(**params,random_state=46,objective ='regression')"
   ]
  },
  {
   "cell_type": "code",
   "execution_count": 191,
   "id": "43e8d220",
   "metadata": {},
   "outputs": [],
   "source": [
    "#m1 = xgb.XGBRegressor(n_estimators=500,max_depth=3,n_jobs=-1,max_leaves=7,)"
   ]
  },
  {
   "cell_type": "code",
   "execution_count": 192,
   "id": "e5b39e74",
   "metadata": {},
   "outputs": [
    {
     "data": {
      "text/plain": [
       "LGBMRegressor(learning_rate=0.08028787950144536, min_child_samples=550,\n",
       "              n_estimators=80, num_leaves=7, random_state=46)"
      ]
     },
     "execution_count": 192,
     "metadata": {},
     "output_type": "execute_result"
    }
   ],
   "source": [
    "m1.fit(X_train[feat],y_train)"
   ]
  },
  {
   "cell_type": "code",
   "execution_count": 193,
   "id": "808429e9",
   "metadata": {},
   "outputs": [],
   "source": [
    "y_pred =m1.predict(X_test[feat])"
   ]
  },
  {
   "cell_type": "code",
   "execution_count": 194,
   "id": "68f26005",
   "metadata": {},
   "outputs": [
    {
     "data": {
      "text/plain": [
       "0.16053773794900583"
      ]
     },
     "execution_count": 194,
     "metadata": {},
     "output_type": "execute_result"
    }
   ],
   "source": [
    "r2_score(y_test,y_pred)"
   ]
  },
  {
   "cell_type": "code",
   "execution_count": 195,
   "id": "5da79c44",
   "metadata": {},
   "outputs": [
    {
     "data": {
      "text/plain": [
       "<AxesSubplot:title={'center':'Feature importance'}, xlabel='Feature importance', ylabel='Features'>"
      ]
     },
     "execution_count": 195,
     "metadata": {},
     "output_type": "execute_result"
    },
    {
     "data": {
      "image/png": "[encoded data removed]",
      "text/plain": [
       "<Figure size 432x288 with 1 Axes>"
      ]
     },
     "metadata": {},
     "output_type": "display_data"
    }
   ],
   "source": [
    "lgb.plot_importance(m1, max_num_features=20)"
   ]
  },
  {
   "cell_type": "code",
   "execution_count": 76,
   "id": "319966d0",
   "metadata": {},
   "outputs": [],
   "source": [
    "#temp_score= set()"
   ]
  },
  {
   "cell_type": "code",
   "execution_count": 73,
   "id": "1c6a739e",
   "metadata": {},
   "outputs": [
    {
     "data": {
      "text/plain": [
       "0.3279286612061212"
      ]
     },
     "execution_count": 73,
     "metadata": {},
     "output_type": "execute_result"
    }
   ],
   "source": [
    "try :\n",
    "    score=r2_score(y_test,y_pred)\n",
    "    temp_score.add(score)\n",
    "except:\n",
    "    print(\"Score are same\")\n",
    "    \n",
    "score    "
   ]
  },
  {
   "cell_type": "code",
   "execution_count": 49,
   "id": "414e8e25",
   "metadata": {},
   "outputs": [
    {
     "data": {
      "text/plain": [
       "{0.3279286612061212}"
      ]
     },
     "execution_count": 49,
     "metadata": {},
     "output_type": "execute_result"
    }
   ],
   "source": [
    "temp_score"
   ]
  },
  {
   "attachments": {},
   "cell_type": "markdown",
   "id": "da11903e",
   "metadata": {},
   "source": [
    "## Stack boosting code (jassi)"
   ]
  },
  {
   "cell_type": "code",
   "execution_count": 200,
   "id": "3971fe59",
   "metadata": {},
   "outputs": [],
   "source": [
    "cat_cols = ['gender',\n",
    " 'area',\n",
    " 'qualification',\n",
    " 'income',\n",
    " 'marital_status',\n",
    " 'vintage',\n",
    "  'policy','type_of_policy']"
   ]
  },
  {
   "cell_type": "code",
   "execution_count": 196,
   "id": "e6c7e4e6",
   "metadata": {},
   "outputs": [],
   "source": [
    "from sklearn.model_selection import KFold\n",
    "import pandas as pd\n",
    "from typing import Union\n",
    "\n",
    "class SplitModelObjectHolder():\n",
    "    def __init__(self):\n",
    "        self.models = []\n",
    "\n",
    "    def add_model(self, model):\n",
    "        self.models.append(model)\n",
    "\n",
    "    def predict(self, dataframe):\n",
    "        result = 0\n",
    "        for model in self.models:\n",
    "            result +=  model.predict(dataframe) \n",
    "        return result/len(self.models)\n",
    "\n",
    "\n",
    "class SplitObject:\n",
    "    \"\"\" _summary_\n",
    "\n",
    "    _extended_summary_\n",
    "    \"\"\"\n",
    "    def __init__(self, n_splits: int = 4, random_state: int = 0):\n",
    "        \"\"\"_summary_\n",
    "\n",
    "        Parameters\n",
    "        ----------\n",
    "        n_splits : int, optional\n",
    "            _description_, by default 3\n",
    "        random_state : int, optional\n",
    "            _description_, by default 0\n",
    "        \"\"\"\n",
    "        self.n_splits = n_splits\n",
    "        self.random_state = random_state\n",
    "\n",
    "    def fit(self, x_train: pd.DataFrame,\n",
    "            y: pd.Series,\n",
    "            feature_list: list = None,\n",
    "            stratify_on : Union[str, pd.Series] = None,\n",
    "            model_list: list = None,\n",
    "            model_instance=None,\n",
    "           cat_cols=None):\n",
    "        \"\"\"_summary_\n",
    "\n",
    "        Parameters\n",
    "        ----------\n",
    "        model_list : list\n",
    "            _description_\n",
    "        \"\"\"\n",
    "        # The idea is of a single automl object, so we will have to figure out\n",
    "        # when it is a classification (stratified) and when it is not\n",
    "        # Also why not stratify in regression using bins???\n",
    "        \n",
    "        skf = KFold(n_splits=self.n_splits, shuffle=True, random_state=self.random_state)\n",
    "        features = x_train.colunms if feature_list is None else feature_list\n",
    "        x_train[\"oof_predictions\"] = 0\n",
    "        self.model_holder = SplitModelObjectHolder()\n",
    "        #print(self.model_holder.models)\n",
    "        stratify_on_column =  y if stratify_on is None else x_train[stratify_on]\n",
    "\n",
    "\n",
    "        for fold, (train_idx, valid_idx) in enumerate(skf.split(x_train, stratify_on_column)):\n",
    "            valid_x = x_train.loc[valid_idx, features]\n",
    "            valid_y = y.loc[valid_idx]\n",
    "\n",
    "            train_x = x_train.loc[train_idx, features]\n",
    "            train_y = y.loc[train_idx]\n",
    "\n",
    "            # 2. need to have the individual models in each split saved\n",
    "            #model = model_instance  # need to figure out\n",
    "            model_instance = CatBoostRegressor(iterations=2000,od_type = \"Iter\",od_wait = 500)\n",
    "\n",
    "            model_instance.fit(train_x, \n",
    "                               train_y,cat_features =cat_cols, \n",
    "                               eval_set=[(valid_x, valid_y)],\n",
    "                               verbose=500)\n",
    "\n",
    "            #oof_preds = np.exp( model_instance.predict(valid_x) )\n",
    "            #print(self.model_holder.models, model_instance)\n",
    "\n",
    "            self.model_holder.add_model(model_instance)  # posttible solution to 2. ?\n",
    "            #print(self.model_holder.models)\n",
    "\n",
    "            x_train.loc[valid_idx, \"oof_predictions\"] = self.model_holder.predict(valid_x)\n",
    "            \n",
    "        return x_train, self.model_holder\n"
   ]
  },
  {
   "cell_type": "code",
   "execution_count": 197,
   "id": "05071c5f",
   "metadata": {},
   "outputs": [],
   "source": [
    "first = SplitObject(random_state=27031997)"
   ]
  },
  {
   "cell_type": "code",
   "execution_count": 201,
   "id": "91f8409d",
   "metadata": {},
   "outputs": [
    {
     "name": "stdout",
     "output_type": "stream",
     "text": [
      "Learning rate set to 0.064566\n",
      "0:\tlearn: 89312.4027774\ttest: 90986.1979057\tbest: 90986.1979057 (0)\ttotal: 68.1ms\tremaining: 2m 16s\n",
      "500:\tlearn: 81891.1046690\ttest: 84400.6881613\tbest: 84347.7997264 (227)\ttotal: 24.1s\tremaining: 1m 12s\n",
      "Stopped by overfitting detector  (500 iterations wait)\n",
      "\n",
      "bestTest = 84347.79973\n",
      "bestIteration = 227\n",
      "\n",
      "Shrink model to first 228 iterations.\n",
      "Learning rate set to 0.064566\n",
      "0:\tlearn: 89703.4035970\ttest: 89834.0436256\tbest: 89834.0436256 (0)\ttotal: 71.3ms\tremaining: 2m 22s\n",
      "500:\tlearn: 82373.9981934\ttest: 83106.5179977\tbest: 83087.6197675 (336)\ttotal: 24s\tremaining: 1m 11s\n",
      "Stopped by overfitting detector  (500 iterations wait)\n",
      "\n",
      "bestTest = 83087.61977\n",
      "bestIteration = 336\n",
      "\n",
      "Shrink model to first 337 iterations.\n",
      "Learning rate set to 0.064566\n",
      "0:\tlearn: 89666.6341880\ttest: 89924.2361966\tbest: 89924.2361966 (0)\ttotal: 83ms\tremaining: 2m 45s\n",
      "500:\tlearn: 82320.2925769\ttest: 83289.5713765\tbest: 83263.4459465 (189)\ttotal: 25.9s\tremaining: 1m 17s\n",
      "Stopped by overfitting detector  (500 iterations wait)\n",
      "\n",
      "bestTest = 83263.44595\n",
      "bestIteration = 189\n",
      "\n",
      "Shrink model to first 190 iterations.\n",
      "Learning rate set to 0.064566\n",
      "0:\tlearn: 90242.2296448\ttest: 88179.1404641\tbest: 88179.1404641 (0)\ttotal: 75.2ms\tremaining: 2m 30s\n",
      "500:\tlearn: 82897.1209020\ttest: 81433.0611880\tbest: 81394.6510988 (158)\ttotal: 24.6s\tremaining: 1m 13s\n",
      "Stopped by overfitting detector  (500 iterations wait)\n",
      "\n",
      "bestTest = 81394.6511\n",
      "bestIteration = 158\n",
      "\n",
      "Shrink model to first 159 iterations.\n"
     ]
    }
   ],
   "source": [
    "# m1 = lgb.LGBMRegressor(random_state=46,min_child_samples = 550,num_leaves=7,learning_rate= 0.08028787950144536,n_estimators= 80)\n",
    "# m1 is my tunned model\n",
    "x_train, model_holder = first.fit(train,\n",
    "                                  train['cltv'],\n",
    "                                 features,\n",
    "                                 model_instance = m1,\n",
    "                                  cat_cols=cat_cols)"
   ]
  },
  {
   "cell_type": "code",
   "execution_count": 202,
   "id": "6106367d",
   "metadata": {},
   "outputs": [
    {
     "data": {
      "text/plain": [
       "[<catboost.core.CatBoostRegressor at 0x17505265490>,\n",
       " <catboost.core.CatBoostRegressor at 0x17505268fa0>,\n",
       " <catboost.core.CatBoostRegressor at 0x174c8e858b0>,\n",
       " <catboost.core.CatBoostRegressor at 0x174b090ba90>]"
      ]
     },
     "execution_count": 202,
     "metadata": {},
     "output_type": "execute_result"
    }
   ],
   "source": [
    "first.model_holder.models"
   ]
  },
  {
   "cell_type": "code",
   "execution_count": 203,
   "id": "06a2e6dd",
   "metadata": {},
   "outputs": [
    {
     "data": {
      "text/plain": [
       "0.16247664021863673"
      ]
     },
     "execution_count": 203,
     "metadata": {},
     "output_type": "execute_result"
    }
   ],
   "source": [
    "r2_score(x_train['cltv'],x_train['oof_predictions'])"
   ]
  },
  {
   "cell_type": "code",
   "execution_count": 204,
   "id": "39856f21",
   "metadata": {},
   "outputs": [
    {
     "name": "stdout",
     "output_type": "stream",
     "text": [
      "Learning rate set to 0.064566\n",
      "0:\tlearn: 89919.7424567\ttest: 89170.3085260\tbest: 89170.3085260 (0)\ttotal: 66.9ms\tremaining: 2m 13s\n",
      "500:\tlearn: 82543.8138099\ttest: 82511.6463582\tbest: 82503.2046418 (369)\ttotal: 27s\tremaining: 1m 20s\n",
      "Stopped by overfitting detector  (500 iterations wait)\n",
      "\n",
      "bestTest = 82503.20464\n",
      "bestIteration = 369\n",
      "\n",
      "Shrink model to first 370 iterations.\n",
      "Learning rate set to 0.064566\n",
      "0:\tlearn: 89415.2786993\ttest: 90696.0404594\tbest: 90696.0404594 (0)\ttotal: 73.2ms\tremaining: 2m 26s\n",
      "500:\tlearn: 82032.9088667\ttest: 83790.4657741\tbest: 83773.3386250 (369)\ttotal: 29.7s\tremaining: 1m 28s\n",
      "Stopped by overfitting detector  (500 iterations wait)\n",
      "\n",
      "bestTest = 83773.33862\n",
      "bestIteration = 369\n",
      "\n",
      "Shrink model to first 370 iterations.\n",
      "Learning rate set to 0.064566\n",
      "0:\tlearn: 89732.4801378\ttest: 89717.3531815\tbest: 89717.3531815 (0)\ttotal: 67.5ms\tremaining: 2m 14s\n",
      "500:\tlearn: 82282.9135321\ttest: 83146.0978298\tbest: 83134.4652262 (293)\ttotal: 27.8s\tremaining: 1m 23s\n",
      "Stopped by overfitting detector  (500 iterations wait)\n",
      "\n",
      "bestTest = 83134.46523\n",
      "bestIteration = 293\n",
      "\n",
      "Shrink model to first 294 iterations.\n",
      "Learning rate set to 0.064566\n",
      "0:\tlearn: 89861.4504689\ttest: 89347.4312270\tbest: 89347.4312270 (0)\ttotal: 69.7ms\tremaining: 2m 19s\n",
      "500:\tlearn: 82565.8143425\ttest: 82635.9426260\tbest: 82622.1066132 (255)\ttotal: 28.5s\tremaining: 1m 25s\n",
      "Stopped by overfitting detector  (500 iterations wait)\n",
      "\n",
      "bestTest = 82622.10661\n",
      "bestIteration = 255\n",
      "\n",
      "Shrink model to first 256 iterations.\n"
     ]
    },
    {
     "data": {
      "text/plain": [
       "[<catboost.core.CatBoostRegressor at 0x1750528caf0>,\n",
       " <catboost.core.CatBoostRegressor at 0x174c8f29ca0>,\n",
       " <catboost.core.CatBoostRegressor at 0x174b090bdf0>,\n",
       " <catboost.core.CatBoostRegressor at 0x17505265cd0>]"
      ]
     },
     "execution_count": 204,
     "metadata": {},
     "output_type": "execute_result"
    }
   ],
   "source": [
    "second = SplitObject(random_state=27061997)\n",
    "\n",
    "x_train, model_holder = second.fit(train,\n",
    "                                  train['cltv'],\n",
    "                                     features,\n",
    "                                     model_instance = m1,\n",
    "                                      cat_cols=cat_cols)\n",
    "second.model_holder.models"
   ]
  },
  {
   "cell_type": "code",
   "execution_count": 205,
   "id": "0d94714e",
   "metadata": {},
   "outputs": [
    {
     "data": {
      "text/plain": [
       "0.1633147840226814"
      ]
     },
     "execution_count": 205,
     "metadata": {},
     "output_type": "execute_result"
    }
   ],
   "source": [
    "r2_score(x_train['cltv'],x_train['oof_predictions'])"
   ]
  },
  {
   "cell_type": "code",
   "execution_count": 206,
   "id": "6a3e0c30",
   "metadata": {},
   "outputs": [],
   "source": [
    "# test submission of jassi_code\n",
    "test['cltv']=model_holder.predict(test[features])\n",
    "test[['id','cltv']].to_csv('sub_score0.1633147840226814.csv',index=False)"
   ]
  },
  {
   "cell_type": "code",
   "execution_count": 51,
   "id": "d588fef7",
   "metadata": {},
   "outputs": [],
   "source": [
    "# #from lazypredict.Supervised import LazyRegressor\n",
    "# # import pandas as pd\n",
    "\n",
    "# # lazy predictor\n",
    "\n",
    "\n",
    "# from sklearn.utils import shuffle\n",
    "# # Assume X_train and y_train are the training data and labels, respectively\n",
    "\n",
    "# # Create a LazyPredictor object with a Random Forest model\n",
    "\n",
    "# X, y = shuffle(train[features], train['cltv'], random_state=13)\n",
    "# X = X.astype(np.float32)\n",
    "\n",
    "# offset = int(X.shape[0] * 0.9)\n",
    "\n",
    "# X_train, y_train = X[:offset], y[:offset]\n",
    "# X_test, y_test = X[offset:], y[offset:]\n",
    "\n",
    "# reg = LazyRegressor(verbose=0, ignore_warnings=False, custom_metric=None)\n",
    "# models, predictions = reg.fit(X_train, X_test, y_train, y_test)\n",
    "# # Fit the model on the training data\n",
    "\n",
    "# print(models)"
   ]
  },
  {
   "cell_type": "code",
   "execution_count": 52,
   "id": "37fdb9e7",
   "metadata": {},
   "outputs": [],
   "source": [
    "# # Assume that X_train, X_test, y_train, y_test are the train and test data and labels\n",
    "\n",
    "# # Define the parameter grid for grid search\n",
    "# param_grid = {'max_depth': [3, 5, 7],\n",
    "#               'learning_rate': [0.1, 0.01, 0.001],\n",
    "#               'n_estimators': [100, 200, 300],\n",
    "#               'subsample': [0.8, 1],\n",
    "#               'colsample_bytree': [0.8, 1]\n",
    "#              }\n",
    "\n",
    "# # Create an XGBoost regressor\n",
    "# regressor = xgb.XGBRegressor()\n",
    "\n",
    "# # Perform grid search using recall as the scoring metric\n",
    "# grid_search = RandomizedSearchCV(regressor, param_grid, cv=5, scoring='r2', n_jobs=-1,verbose=True)\n",
    "\n",
    "# #grid_search = GridSearchCV(regressor, param_grid, cv=5, scoring='recall', n_jobs=-1)\n",
    "\n",
    "# # # wrap the grid_search.fit() method with tqdm\n",
    "# # with tqdm(total=len(param_grid)) as pbar:\n",
    "# #     grid_search.fit(X_train, y_train, callback=lambda *x: pbar.update())\n",
    "\n",
    "# grid_search.fit(X_train, y_train)\n",
    "\n",
    "# # Print the best parameters and recall score\n",
    "# print(\"Best parameters: \", grid_search.best_params_)\n",
    "# print(\"Best r2 score: \", grid_search.best_score_)\n",
    "\n",
    "# # Use the best parameters to make predictions on the test data\n",
    "# regressor = xgb.XGBRegressor(**grid_search.best_params_)\n",
    "# regressor.fit(X_train, y_train)\n",
    "# y_pred = regressor.predict(X_test)\n",
    "\n",
    "# # Calculate recall on the test data\n",
    "# recall_test = r2_score(y_test, y_pred)\n",
    "# print(\"r2_score on test data: \", recall_test)\n"
   ]
  },
  {
   "attachments": {},
   "cell_type": "markdown",
   "id": "2052b40d",
   "metadata": {},
   "source": [
    "# To save the test file"
   ]
  },
  {
   "cell_type": "code",
   "execution_count": 54,
   "id": "8979ad54",
   "metadata": {},
   "outputs": [],
   "source": [
    "m1.fit(train[features], train['cltv'])\n",
    "test['cltv'] =m1.predict(test[features])\n",
    "test[['id','cltv']].to_csv('sub_score0.1633147840226814.csv',index=False)"
   ]
  },
  {
   "cell_type": "code",
   "execution_count": 210,
   "id": "c458a997",
   "metadata": {},
   "outputs": [
    {
     "ename": "KeyboardInterrupt",
     "evalue": "",
     "output_type": "error",
     "traceback": [
      "\u001b[1;31m---------------------------------------------------------------------------\u001b[0m",
      "\u001b[1;31mKeyboardInterrupt\u001b[0m                         Traceback (most recent call last)",
      "Input \u001b[1;32mIn [210]\u001b[0m, in \u001b[0;36m<cell line: 9>\u001b[1;34m()\u001b[0m\n\u001b[0;32m      7\u001b[0m \u001b[38;5;66;03m# Perform t-SNE dimensionality reduction\u001b[39;00m\n\u001b[0;32m      8\u001b[0m tsne \u001b[38;5;241m=\u001b[39m TSNE(n_components\u001b[38;5;241m=\u001b[39m\u001b[38;5;241m2\u001b[39m, perplexity\u001b[38;5;241m=\u001b[39m\u001b[38;5;241m5\u001b[39m, learning_rate\u001b[38;5;241m=\u001b[39m\u001b[38;5;241m20\u001b[39m)\n\u001b[1;32m----> 9\u001b[0m X_tsne \u001b[38;5;241m=\u001b[39m \u001b[43mtsne\u001b[49m\u001b[38;5;241;43m.\u001b[39;49m\u001b[43mfit_transform\u001b[49m\u001b[43m(\u001b[49m\u001b[43mX\u001b[49m\u001b[43m)\u001b[49m\n\u001b[0;32m     11\u001b[0m \u001b[38;5;66;03m# X_tsne will have shape (n_samples, 2)\u001b[39;00m\n\u001b[0;32m     12\u001b[0m plt\u001b[38;5;241m.\u001b[39mscatter(X_tsne[:, \u001b[38;5;241m0\u001b[39m], X_tsne[:, \u001b[38;5;241m1\u001b[39m])\n",
      "File \u001b[1;32m~\\anaconda3\\lib\\site-packages\\sklearn\\manifold\\_t_sne.py:1108\u001b[0m, in \u001b[0;36mTSNE.fit_transform\u001b[1;34m(self, X, y)\u001b[0m\n\u001b[0;32m   1088\u001b[0m \u001b[38;5;28;01mdef\u001b[39;00m \u001b[38;5;21mfit_transform\u001b[39m(\u001b[38;5;28mself\u001b[39m, X, y\u001b[38;5;241m=\u001b[39m\u001b[38;5;28;01mNone\u001b[39;00m):\n\u001b[0;32m   1089\u001b[0m     \u001b[38;5;124;03m\"\"\"Fit X into an embedded space and return that transformed output.\u001b[39;00m\n\u001b[0;32m   1090\u001b[0m \n\u001b[0;32m   1091\u001b[0m \u001b[38;5;124;03m    Parameters\u001b[39;00m\n\u001b[1;32m   (...)\u001b[0m\n\u001b[0;32m   1106\u001b[0m \u001b[38;5;124;03m        Embedding of the training data in low-dimensional space.\u001b[39;00m\n\u001b[0;32m   1107\u001b[0m \u001b[38;5;124;03m    \"\"\"\u001b[39;00m\n\u001b[1;32m-> 1108\u001b[0m     embedding \u001b[38;5;241m=\u001b[39m \u001b[38;5;28;43mself\u001b[39;49m\u001b[38;5;241;43m.\u001b[39;49m\u001b[43m_fit\u001b[49m\u001b[43m(\u001b[49m\u001b[43mX\u001b[49m\u001b[43m)\u001b[49m\n\u001b[0;32m   1109\u001b[0m     \u001b[38;5;28mself\u001b[39m\u001b[38;5;241m.\u001b[39membedding_ \u001b[38;5;241m=\u001b[39m embedding\n\u001b[0;32m   1110\u001b[0m     \u001b[38;5;28;01mreturn\u001b[39;00m \u001b[38;5;28mself\u001b[39m\u001b[38;5;241m.\u001b[39membedding_\n",
      "File \u001b[1;32m~\\anaconda3\\lib\\site-packages\\sklearn\\manifold\\_t_sne.py:1004\u001b[0m, in \u001b[0;36mTSNE._fit\u001b[1;34m(self, X, skip_num_points)\u001b[0m\n\u001b[0;32m    998\u001b[0m \u001b[38;5;66;03m# Degrees of freedom of the Student's t-distribution. The suggestion\u001b[39;00m\n\u001b[0;32m    999\u001b[0m \u001b[38;5;66;03m# degrees_of_freedom = n_components - 1 comes from\u001b[39;00m\n\u001b[0;32m   1000\u001b[0m \u001b[38;5;66;03m# \"Learning a Parametric Embedding by Preserving Local Structure\"\u001b[39;00m\n\u001b[0;32m   1001\u001b[0m \u001b[38;5;66;03m# Laurens van der Maaten, 2009.\u001b[39;00m\n\u001b[0;32m   1002\u001b[0m degrees_of_freedom \u001b[38;5;241m=\u001b[39m \u001b[38;5;28mmax\u001b[39m(\u001b[38;5;28mself\u001b[39m\u001b[38;5;241m.\u001b[39mn_components \u001b[38;5;241m-\u001b[39m \u001b[38;5;241m1\u001b[39m, \u001b[38;5;241m1\u001b[39m)\n\u001b[1;32m-> 1004\u001b[0m \u001b[38;5;28;01mreturn\u001b[39;00m \u001b[38;5;28;43mself\u001b[39;49m\u001b[38;5;241;43m.\u001b[39;49m\u001b[43m_tsne\u001b[49m\u001b[43m(\u001b[49m\n\u001b[0;32m   1005\u001b[0m \u001b[43m    \u001b[49m\u001b[43mP\u001b[49m\u001b[43m,\u001b[49m\n\u001b[0;32m   1006\u001b[0m \u001b[43m    \u001b[49m\u001b[43mdegrees_of_freedom\u001b[49m\u001b[43m,\u001b[49m\n\u001b[0;32m   1007\u001b[0m \u001b[43m    \u001b[49m\u001b[43mn_samples\u001b[49m\u001b[43m,\u001b[49m\n\u001b[0;32m   1008\u001b[0m \u001b[43m    \u001b[49m\u001b[43mX_embedded\u001b[49m\u001b[38;5;241;43m=\u001b[39;49m\u001b[43mX_embedded\u001b[49m\u001b[43m,\u001b[49m\n\u001b[0;32m   1009\u001b[0m \u001b[43m    \u001b[49m\u001b[43mneighbors\u001b[49m\u001b[38;5;241;43m=\u001b[39;49m\u001b[43mneighbors_nn\u001b[49m\u001b[43m,\u001b[49m\n\u001b[0;32m   1010\u001b[0m \u001b[43m    \u001b[49m\u001b[43mskip_num_points\u001b[49m\u001b[38;5;241;43m=\u001b[39;49m\u001b[43mskip_num_points\u001b[49m\u001b[43m,\u001b[49m\n\u001b[0;32m   1011\u001b[0m \u001b[43m\u001b[49m\u001b[43m)\u001b[49m\n",
      "File \u001b[1;32m~\\anaconda3\\lib\\site-packages\\sklearn\\manifold\\_t_sne.py:1072\u001b[0m, in \u001b[0;36mTSNE._tsne\u001b[1;34m(self, P, degrees_of_freedom, n_samples, X_embedded, neighbors, skip_num_points)\u001b[0m\n\u001b[0;32m   1070\u001b[0m     opt_args[\u001b[38;5;124m\"\u001b[39m\u001b[38;5;124mmomentum\u001b[39m\u001b[38;5;124m\"\u001b[39m] \u001b[38;5;241m=\u001b[39m \u001b[38;5;241m0.8\u001b[39m\n\u001b[0;32m   1071\u001b[0m     opt_args[\u001b[38;5;124m\"\u001b[39m\u001b[38;5;124mn_iter_without_progress\u001b[39m\u001b[38;5;124m\"\u001b[39m] \u001b[38;5;241m=\u001b[39m \u001b[38;5;28mself\u001b[39m\u001b[38;5;241m.\u001b[39mn_iter_without_progress\n\u001b[1;32m-> 1072\u001b[0m     params, kl_divergence, it \u001b[38;5;241m=\u001b[39m _gradient_descent(obj_func, params, \u001b[38;5;241m*\u001b[39m\u001b[38;5;241m*\u001b[39mopt_args)\n\u001b[0;32m   1074\u001b[0m \u001b[38;5;66;03m# Save the final number of iterations\u001b[39;00m\n\u001b[0;32m   1075\u001b[0m \u001b[38;5;28mself\u001b[39m\u001b[38;5;241m.\u001b[39mn_iter_ \u001b[38;5;241m=\u001b[39m it\n",
      "File \u001b[1;32m~\\anaconda3\\lib\\site-packages\\sklearn\\manifold\\_t_sne.py:398\u001b[0m, in \u001b[0;36m_gradient_descent\u001b[1;34m(objective, p0, it, n_iter, n_iter_check, n_iter_without_progress, momentum, learning_rate, min_gain, min_grad_norm, verbose, args, kwargs)\u001b[0m\n\u001b[0;32m    395\u001b[0m \u001b[38;5;66;03m# only compute the error when needed\u001b[39;00m\n\u001b[0;32m    396\u001b[0m kwargs[\u001b[38;5;124m\"\u001b[39m\u001b[38;5;124mcompute_error\u001b[39m\u001b[38;5;124m\"\u001b[39m] \u001b[38;5;241m=\u001b[39m check_convergence \u001b[38;5;129;01mor\u001b[39;00m i \u001b[38;5;241m==\u001b[39m n_iter \u001b[38;5;241m-\u001b[39m \u001b[38;5;241m1\u001b[39m\n\u001b[1;32m--> 398\u001b[0m error, grad \u001b[38;5;241m=\u001b[39m objective(p, \u001b[38;5;241m*\u001b[39margs, \u001b[38;5;241m*\u001b[39m\u001b[38;5;241m*\u001b[39mkwargs)\n\u001b[0;32m    399\u001b[0m grad_norm \u001b[38;5;241m=\u001b[39m linalg\u001b[38;5;241m.\u001b[39mnorm(grad)\n\u001b[0;32m    401\u001b[0m inc \u001b[38;5;241m=\u001b[39m update \u001b[38;5;241m*\u001b[39m grad \u001b[38;5;241m<\u001b[39m \u001b[38;5;241m0.0\u001b[39m\n",
      "File \u001b[1;32m~\\anaconda3\\lib\\site-packages\\sklearn\\manifold\\_t_sne.py:279\u001b[0m, in \u001b[0;36m_kl_divergence_bh\u001b[1;34m(params, P, degrees_of_freedom, n_samples, n_components, angle, skip_num_points, verbose, compute_error, num_threads)\u001b[0m\n\u001b[0;32m    276\u001b[0m indptr \u001b[38;5;241m=\u001b[39m P\u001b[38;5;241m.\u001b[39mindptr\u001b[38;5;241m.\u001b[39mastype(np\u001b[38;5;241m.\u001b[39mint64, copy\u001b[38;5;241m=\u001b[39m\u001b[38;5;28;01mFalse\u001b[39;00m)\n\u001b[0;32m    278\u001b[0m grad \u001b[38;5;241m=\u001b[39m np\u001b[38;5;241m.\u001b[39mzeros(X_embedded\u001b[38;5;241m.\u001b[39mshape, dtype\u001b[38;5;241m=\u001b[39mnp\u001b[38;5;241m.\u001b[39mfloat32)\n\u001b[1;32m--> 279\u001b[0m error \u001b[38;5;241m=\u001b[39m \u001b[43m_barnes_hut_tsne\u001b[49m\u001b[38;5;241;43m.\u001b[39;49m\u001b[43mgradient\u001b[49m\u001b[43m(\u001b[49m\n\u001b[0;32m    280\u001b[0m \u001b[43m    \u001b[49m\u001b[43mval_P\u001b[49m\u001b[43m,\u001b[49m\n\u001b[0;32m    281\u001b[0m \u001b[43m    \u001b[49m\u001b[43mX_embedded\u001b[49m\u001b[43m,\u001b[49m\n\u001b[0;32m    282\u001b[0m \u001b[43m    \u001b[49m\u001b[43mneighbors\u001b[49m\u001b[43m,\u001b[49m\n\u001b[0;32m    283\u001b[0m \u001b[43m    \u001b[49m\u001b[43mindptr\u001b[49m\u001b[43m,\u001b[49m\n\u001b[0;32m    284\u001b[0m \u001b[43m    \u001b[49m\u001b[43mgrad\u001b[49m\u001b[43m,\u001b[49m\n\u001b[0;32m    285\u001b[0m \u001b[43m    \u001b[49m\u001b[43mangle\u001b[49m\u001b[43m,\u001b[49m\n\u001b[0;32m    286\u001b[0m \u001b[43m    \u001b[49m\u001b[43mn_components\u001b[49m\u001b[43m,\u001b[49m\n\u001b[0;32m    287\u001b[0m \u001b[43m    \u001b[49m\u001b[43mverbose\u001b[49m\u001b[43m,\u001b[49m\n\u001b[0;32m    288\u001b[0m \u001b[43m    \u001b[49m\u001b[43mdof\u001b[49m\u001b[38;5;241;43m=\u001b[39;49m\u001b[43mdegrees_of_freedom\u001b[49m\u001b[43m,\u001b[49m\n\u001b[0;32m    289\u001b[0m \u001b[43m    \u001b[49m\u001b[43mcompute_error\u001b[49m\u001b[38;5;241;43m=\u001b[39;49m\u001b[43mcompute_error\u001b[49m\u001b[43m,\u001b[49m\n\u001b[0;32m    290\u001b[0m \u001b[43m    \u001b[49m\u001b[43mnum_threads\u001b[49m\u001b[38;5;241;43m=\u001b[39;49m\u001b[43mnum_threads\u001b[49m\u001b[43m,\u001b[49m\n\u001b[0;32m    291\u001b[0m \u001b[43m\u001b[49m\u001b[43m)\u001b[49m\n\u001b[0;32m    292\u001b[0m c \u001b[38;5;241m=\u001b[39m \u001b[38;5;241m2.0\u001b[39m \u001b[38;5;241m*\u001b[39m (degrees_of_freedom \u001b[38;5;241m+\u001b[39m \u001b[38;5;241m1.0\u001b[39m) \u001b[38;5;241m/\u001b[39m degrees_of_freedom\n\u001b[0;32m    293\u001b[0m grad \u001b[38;5;241m=\u001b[39m grad\u001b[38;5;241m.\u001b[39mravel()\n",
      "\u001b[1;31mKeyboardInterrupt\u001b[0m: "
     ]
    }
   ],
   "source": [
    "from sklearn.manifold import TSNE\n",
    "import pandas as pd\n",
    "\n",
    "# Assume X is the data with shape (n_samples, n_features)\n",
    "X = train[feat]\n",
    "\n",
    "# Perform t-SNE dimensionality reduction\n",
    "tsne = TSNE(n_components=2, perplexity=5, learning_rate=20)\n",
    "X_tsne = tsne.fit_transform(X)\n",
    "\n",
    "# X_tsne will have shape (n_samples, 2)\n",
    "plt.scatter(X_tsne[:, 0], X_tsne[:, 1])\n",
    "plt.show()"
   ]
  },
  {
   "cell_type": "code",
   "execution_count": null,
   "id": "879399c6",
   "metadata": {},
   "outputs": [],
   "source": []
  },
  {
   "cell_type": "code",
   "execution_count": null,
   "id": "3a542b0f",
   "metadata": {},
   "outputs": [],
   "source": []
  },
  {
   "cell_type": "code",
   "execution_count": null,
   "id": "c2ba59c0",
   "metadata": {},
   "outputs": [],
   "source": []
  },
  {
   "cell_type": "code",
   "execution_count": null,
   "id": "43bfc4eb",
   "metadata": {},
   "outputs": [],
   "source": []
  },
  {
   "cell_type": "code",
   "execution_count": null,
   "id": "c3c3480a",
   "metadata": {},
   "outputs": [],
   "source": []
  },
  {
   "cell_type": "code",
   "execution_count": null,
   "id": "4a72cbcb",
   "metadata": {},
   "outputs": [],
   "source": []
  },
  {
   "cell_type": "code",
   "execution_count": null,
   "id": "8482ea6d",
   "metadata": {},
   "outputs": [],
   "source": []
  },
  {
   "cell_type": "code",
   "execution_count": null,
   "id": "632419ab",
   "metadata": {},
   "outputs": [],
   "source": []
  },
  {
   "cell_type": "code",
   "execution_count": null,
   "id": "c8cee5b3",
   "metadata": {},
   "outputs": [],
   "source": []
  },
  {
   "cell_type": "code",
   "execution_count": null,
   "id": "b707213c",
   "metadata": {},
   "outputs": [],
   "source": []
  },
  {
   "cell_type": "code",
   "execution_count": null,
   "id": "54598e88",
   "metadata": {},
   "outputs": [],
   "source": [
    "import tensorflow as tf\n",
    "from tensorflow import keras"
   ]
  },
  {
   "cell_type": "code",
   "execution_count": 111,
   "id": "e5a94ebe",
   "metadata": {},
   "outputs": [],
   "source": [
    "def r2_metric(y_true, y_pred):\n",
    "    SS_res =  keras.backend.sum(keras.backend.square(y_true - y_pred)) \n",
    "    SS_tot = keras.backend.sum(keras.backend.square(y_true - keras.backend.mean(y_true))) \n",
    "    return ( 1 - SS_res/(SS_tot + keras.backend.epsilon()) )"
   ]
  },
  {
   "cell_type": "code",
   "execution_count": 131,
   "id": "35b548bd",
   "metadata": {},
   "outputs": [
    {
     "name": "stdout",
     "output_type": "stream",
     "text": [
      "Epoch 1/200\n",
      "559/559 [==============================] - 1s 938us/step - loss: 10785110016.0000 - r2_metric: -0.3270\n",
      "Epoch 2/200\n",
      "559/559 [==============================] - 1s 901us/step - loss: 9131646976.0000 - r2_metric: -0.1243\n",
      "Epoch 3/200\n",
      "559/559 [==============================] - 0s 842us/step - loss: 8860181504.0000 - r2_metric: -0.0881\n",
      "Epoch 4/200\n",
      "559/559 [==============================] - 0s 844us/step - loss: 8756101120.0000 - r2_metric: -0.0747\n",
      "Epoch 5/200\n",
      "559/559 [==============================] - 0s 853us/step - loss: 8586178048.0000 - r2_metric: -0.0547\n",
      "Epoch 6/200\n",
      "559/559 [==============================] - 1s 901us/step - loss: 8364395008.0000 - r2_metric: -0.0262\n",
      "Epoch 7/200\n",
      "559/559 [==============================] - 1s 1ms/step - loss: 8132291072.0000 - r2_metric: 0.0060\n",
      "Epoch 8/200\n",
      "559/559 [==============================] - 0s 891us/step - loss: 7998857216.0000 - r2_metric: 0.0177\n",
      "Epoch 9/200\n",
      "559/559 [==============================] - 0s 848us/step - loss: 7922621440.0000 - r2_metric: 0.0320\n",
      "Epoch 10/200\n",
      "559/559 [==============================] - 0s 841us/step - loss: 7877936640.0000 - r2_metric: 0.0354\n",
      "Epoch 11/200\n",
      "559/559 [==============================] - 0s 850us/step - loss: 7831587840.0000 - r2_metric: 0.0422\n",
      "Epoch 12/200\n",
      "559/559 [==============================] - 0s 852us/step - loss: 7782988288.0000 - r2_metric: 0.0518\n",
      "Epoch 13/200\n",
      "559/559 [==============================] - 0s 846us/step - loss: 7747303936.0000 - r2_metric: 0.0535\n",
      "Epoch 14/200\n",
      "559/559 [==============================] - 0s 868us/step - loss: 7721067520.0000 - r2_metric: 0.0566\n",
      "Epoch 15/200\n",
      "559/559 [==============================] - 1s 940us/step - loss: 7673635328.0000 - r2_metric: 0.0629\n",
      "Epoch 16/200\n",
      "559/559 [==============================] - 0s 849us/step - loss: 7636438016.0000 - r2_metric: 0.0674\n",
      "Epoch 17/200\n",
      "559/559 [==============================] - 0s 867us/step - loss: 7600275968.0000 - r2_metric: 0.0716\n",
      "Epoch 18/200\n",
      "559/559 [==============================] - 0s 862us/step - loss: 7567788032.0000 - r2_metric: 0.0763\n",
      "Epoch 19/200\n",
      "559/559 [==============================] - 0s 858us/step - loss: 7505764864.0000 - r2_metric: 0.0847\n",
      "Epoch 20/200\n",
      "559/559 [==============================] - 0s 858us/step - loss: 7474249216.0000 - r2_metric: 0.0884\n",
      "Epoch 21/200\n",
      "559/559 [==============================] - 0s 871us/step - loss: 7437128192.0000 - r2_metric: 0.0892\n",
      "Epoch 22/200\n",
      "559/559 [==============================] - 0s 861us/step - loss: 7376628224.0000 - r2_metric: 0.1003\n",
      "Epoch 23/200\n",
      "559/559 [==============================] - 0s 853us/step - loss: 7353307136.0000 - r2_metric: 0.1020\n",
      "Epoch 24/200\n",
      "559/559 [==============================] - 0s 848us/step - loss: 7289268736.0000 - r2_metric: 0.1115\n",
      "Epoch 25/200\n",
      "559/559 [==============================] - 0s 866us/step - loss: 7274761728.0000 - r2_metric: 0.1122\n",
      "Epoch 26/200\n",
      "559/559 [==============================] - 1s 900us/step - loss: 7244749312.0000 - r2_metric: 0.1166\n",
      "Epoch 27/200\n",
      "559/559 [==============================] - 0s 867us/step - loss: 7207961088.0000 - r2_metric: 0.1195\n",
      "Epoch 28/200\n",
      "559/559 [==============================] - 0s 857us/step - loss: 7170570752.0000 - r2_metric: 0.1240\n",
      "Epoch 29/200\n",
      "559/559 [==============================] - 0s 857us/step - loss: 7168833024.0000 - r2_metric: 0.1255\n",
      "Epoch 30/200\n",
      "559/559 [==============================] - 0s 849us/step - loss: 7170398208.0000 - r2_metric: 0.1251\n",
      "Epoch 31/200\n",
      "559/559 [==============================] - 0s 864us/step - loss: 7146302976.0000 - r2_metric: 0.1292\n",
      "Epoch 32/200\n",
      "559/559 [==============================] - 0s 864us/step - loss: 7129975296.0000 - r2_metric: 0.1298\n",
      "Epoch 33/200\n",
      "559/559 [==============================] - 0s 849us/step - loss: 7122687488.0000 - r2_metric: 0.1320\n",
      "Epoch 34/200\n",
      "559/559 [==============================] - 0s 856us/step - loss: 7150295552.0000 - r2_metric: 0.1270\n",
      "Epoch 35/200\n",
      "559/559 [==============================] - 0s 851us/step - loss: 7157325312.0000 - r2_metric: 0.1262\n",
      "Epoch 36/200\n",
      "559/559 [==============================] - 0s 857us/step - loss: 7134275584.0000 - r2_metric: 0.1315\n",
      "Epoch 37/200\n",
      "559/559 [==============================] - 0s 858us/step - loss: 7125314560.0000 - r2_metric: 0.1300\n",
      "Epoch 38/200\n",
      "559/559 [==============================] - 0s 852us/step - loss: 7120620032.0000 - r2_metric: 0.1309\n",
      "Epoch 39/200\n",
      "559/559 [==============================] - 0s 854us/step - loss: 7158715904.0000 - r2_metric: 0.1257\n",
      "Epoch 40/200\n",
      "559/559 [==============================] - 1s 917us/step - loss: 7115385856.0000 - r2_metric: 0.1307\n",
      "Epoch 41/200\n",
      "559/559 [==============================] - 0s 856us/step - loss: 7106589184.0000 - r2_metric: 0.1319\n",
      "Epoch 42/200\n",
      "559/559 [==============================] - 0s 850us/step - loss: 7097212928.0000 - r2_metric: 0.1341\n",
      "Epoch 43/200\n",
      "559/559 [==============================] - 0s 857us/step - loss: 7101888000.0000 - r2_metric: 0.1333\n",
      "Epoch 44/200\n",
      "559/559 [==============================] - 1s 899us/step - loss: 7122109440.0000 - r2_metric: 0.1291\n",
      "Epoch 45/200\n",
      "559/559 [==============================] - 0s 865us/step - loss: 7112584704.0000 - r2_metric: 0.1320\n",
      "Epoch 46/200\n",
      "559/559 [==============================] - 1s 938us/step - loss: 7120452096.0000 - r2_metric: 0.1308\n",
      "Epoch 47/200\n",
      "559/559 [==============================] - 0s 873us/step - loss: 7102082560.0000 - r2_metric: 0.1320\n",
      "Epoch 48/200\n",
      "559/559 [==============================] - 0s 876us/step - loss: 7099565056.0000 - r2_metric: 0.1341\n",
      "Epoch 49/200\n",
      "559/559 [==============================] - 0s 857us/step - loss: 7101223936.0000 - r2_metric: 0.1333\n",
      "Epoch 50/200\n",
      "559/559 [==============================] - 0s 861us/step - loss: 7099799040.0000 - r2_metric: 0.1322\n",
      "Epoch 51/200\n",
      "559/559 [==============================] - 1s 911us/step - loss: 7111604736.0000 - r2_metric: 0.1317\n",
      "Epoch 52/200\n",
      "559/559 [==============================] - 0s 863us/step - loss: 7126142464.0000 - r2_metric: 0.1292\n",
      "Epoch 53/200\n",
      "559/559 [==============================] - 0s 886us/step - loss: 7093080576.0000 - r2_metric: 0.1349\n",
      "Epoch 54/200\n",
      "559/559 [==============================] - 0s 877us/step - loss: 7127352832.0000 - r2_metric: 0.1297\n",
      "Epoch 55/200\n",
      "559/559 [==============================] - 0s 865us/step - loss: 7093926912.0000 - r2_metric: 0.1341\n",
      "Epoch 56/200\n",
      "559/559 [==============================] - 0s 865us/step - loss: 7117865984.0000 - r2_metric: 0.1300\n",
      "Epoch 57/200\n",
      "559/559 [==============================] - 0s 866us/step - loss: 7133723648.0000 - r2_metric: 0.1277\n",
      "Epoch 58/200\n",
      "559/559 [==============================] - 0s 874us/step - loss: 7115432448.0000 - r2_metric: 0.1291\n",
      "Epoch 59/200\n",
      "559/559 [==============================] - 0s 863us/step - loss: 7082741760.0000 - r2_metric: 0.1351\n",
      "Epoch 60/200\n",
      "559/559 [==============================] - 0s 884us/step - loss: 7076422144.0000 - r2_metric: 0.1365\n",
      "Epoch 61/200\n",
      "559/559 [==============================] - 1s 907us/step - loss: 7123774976.0000 - r2_metric: 0.1301\n",
      "Epoch 62/200\n",
      "559/559 [==============================] - 1s 989us/step - loss: 7092526592.0000 - r2_metric: 0.1338\n",
      "Epoch 63/200\n",
      "559/559 [==============================] - 0s 882us/step - loss: 7108500992.0000 - r2_metric: 0.1314\n",
      "Epoch 64/200\n",
      "559/559 [==============================] - 0s 877us/step - loss: 7087611392.0000 - r2_metric: 0.1351\n",
      "Epoch 65/200\n",
      "559/559 [==============================] - 0s 874us/step - loss: 7074073600.0000 - r2_metric: 0.1371\n",
      "Epoch 66/200\n",
      "559/559 [==============================] - 0s 878us/step - loss: 7115049984.0000 - r2_metric: 0.1307\n",
      "Epoch 67/200\n",
      "559/559 [==============================] - 1s 906us/step - loss: 7093175296.0000 - r2_metric: 0.1338\n",
      "Epoch 68/200\n",
      "559/559 [==============================] - 1s 959us/step - loss: 7097131520.0000 - r2_metric: 0.1348\n",
      "Epoch 69/200\n",
      "559/559 [==============================] - 1s 1ms/step - loss: 7104015360.0000 - r2_metric: 0.1322\n",
      "Epoch 70/200\n",
      "559/559 [==============================] - 1s 957us/step - loss: 7093274624.0000 - r2_metric: 0.1317\n",
      "Epoch 71/200\n",
      "559/559 [==============================] - 1s 944us/step - loss: 7138850816.0000 - r2_metric: 0.1283\n",
      "Epoch 72/200\n"
     ]
    },
    {
     "name": "stdout",
     "output_type": "stream",
     "text": [
      "559/559 [==============================] - 1s 996us/step - loss: 7090644992.0000 - r2_metric: 0.1345\n",
      "Epoch 73/200\n",
      "559/559 [==============================] - 1s 933us/step - loss: 7075986944.0000 - r2_metric: 0.1365\n",
      "Epoch 74/200\n",
      "559/559 [==============================] - 1s 920us/step - loss: 7127996928.0000 - r2_metric: 0.1274\n",
      "Epoch 75/200\n",
      "559/559 [==============================] - 1s 992us/step - loss: 7100423680.0000 - r2_metric: 0.1330\n",
      "Epoch 76/200\n",
      "559/559 [==============================] - 1s 902us/step - loss: 7081728512.0000 - r2_metric: 0.1365\n",
      "Epoch 77/200\n",
      "559/559 [==============================] - 0s 852us/step - loss: 7068885504.0000 - r2_metric: 0.1364\n",
      "Epoch 78/200\n",
      "559/559 [==============================] - 0s 834us/step - loss: 7081987584.0000 - r2_metric: 0.1348\n",
      "Epoch 79/200\n",
      "559/559 [==============================] - 0s 834us/step - loss: 7096436224.0000 - r2_metric: 0.1320\n",
      "Epoch 80/200\n",
      "559/559 [==============================] - 0s 830us/step - loss: 7062040576.0000 - r2_metric: 0.1370\n",
      "Epoch 81/200\n",
      "559/559 [==============================] - 0s 864us/step - loss: 7071699456.0000 - r2_metric: 0.1366\n",
      "Epoch 82/200\n",
      "559/559 [==============================] - 0s 837us/step - loss: 7068702208.0000 - r2_metric: 0.1376\n",
      "Epoch 83/200\n",
      "559/559 [==============================] - 0s 829us/step - loss: 7059829248.0000 - r2_metric: 0.1389\n",
      "Epoch 84/200\n",
      "559/559 [==============================] - 0s 848us/step - loss: 7065294336.0000 - r2_metric: 0.1384\n",
      "Epoch 85/200\n",
      "559/559 [==============================] - 0s 835us/step - loss: 7077870080.0000 - r2_metric: 0.1363\n",
      "Epoch 86/200\n",
      "559/559 [==============================] - 0s 839us/step - loss: 7088713216.0000 - r2_metric: 0.1320\n",
      "Epoch 87/200\n",
      "559/559 [==============================] - 0s 837us/step - loss: 7074938880.0000 - r2_metric: 0.1367\n",
      "Epoch 88/200\n",
      "559/559 [==============================] - 0s 858us/step - loss: 7066475520.0000 - r2_metric: 0.1369\n",
      "Epoch 89/200\n",
      "559/559 [==============================] - 0s 836us/step - loss: 7088139264.0000 - r2_metric: 0.1333\n",
      "Epoch 90/200\n",
      "559/559 [==============================] - 0s 845us/step - loss: 7080749056.0000 - r2_metric: 0.1342\n",
      "Epoch 91/200\n",
      "559/559 [==============================] - 0s 879us/step - loss: 7061907968.0000 - r2_metric: 0.1374\n",
      "Epoch 92/200\n",
      "559/559 [==============================] - 0s 847us/step - loss: 7072156160.0000 - r2_metric: 0.1361\n",
      "Epoch 93/200\n",
      "559/559 [==============================] - 0s 831us/step - loss: 7084865536.0000 - r2_metric: 0.1346\n",
      "Epoch 94/200\n",
      "559/559 [==============================] - 0s 842us/step - loss: 7067739648.0000 - r2_metric: 0.1367\n",
      "Epoch 95/200\n",
      "559/559 [==============================] - 0s 834us/step - loss: 7047079424.0000 - r2_metric: 0.1399\n",
      "Epoch 96/200\n",
      "559/559 [==============================] - 0s 839us/step - loss: 7077239296.0000 - r2_metric: 0.1354\n",
      "Epoch 97/200\n",
      "559/559 [==============================] - 0s 863us/step - loss: 7084403200.0000 - r2_metric: 0.1321\n",
      "Epoch 98/200\n",
      "559/559 [==============================] - 0s 866us/step - loss: 7057179648.0000 - r2_metric: 0.1386\n",
      "Epoch 99/200\n",
      "559/559 [==============================] - 0s 840us/step - loss: 7073445376.0000 - r2_metric: 0.1353\n",
      "Epoch 100/200\n",
      "559/559 [==============================] - 0s 842us/step - loss: 7057278976.0000 - r2_metric: 0.1381\n",
      "Epoch 101/200\n",
      "559/559 [==============================] - 0s 838us/step - loss: 7079986688.0000 - r2_metric: 0.1363\n",
      "Epoch 102/200\n",
      "559/559 [==============================] - 0s 835us/step - loss: 7092474368.0000 - r2_metric: 0.1340\n",
      "Epoch 103/200\n",
      "559/559 [==============================] - 0s 847us/step - loss: 7101760512.0000 - r2_metric: 0.1321\n",
      "Epoch 104/200\n",
      "559/559 [==============================] - 0s 839us/step - loss: 7078415872.0000 - r2_metric: 0.1356\n",
      "Epoch 105/200\n",
      "559/559 [==============================] - 0s 842us/step - loss: 7080425984.0000 - r2_metric: 0.1352\n",
      "Epoch 106/200\n",
      "559/559 [==============================] - 1s 896us/step - loss: 7091445248.0000 - r2_metric: 0.1340\n",
      "Epoch 107/200\n",
      "559/559 [==============================] - 0s 836us/step - loss: 7059811328.0000 - r2_metric: 0.1375\n",
      "Epoch 108/200\n",
      "559/559 [==============================] - 0s 842us/step - loss: 7049730560.0000 - r2_metric: 0.1393\n",
      "Epoch 109/200\n",
      "559/559 [==============================] - 0s 839us/step - loss: 7060789248.0000 - r2_metric: 0.1381\n",
      "Epoch 110/200\n",
      "559/559 [==============================] - 0s 840us/step - loss: 7076295168.0000 - r2_metric: 0.1361\n",
      "Epoch 111/200\n",
      "559/559 [==============================] - 0s 843us/step - loss: 7059702272.0000 - r2_metric: 0.1384\n",
      "Epoch 112/200\n",
      "559/559 [==============================] - 0s 835us/step - loss: 7081951232.0000 - r2_metric: 0.1352\n",
      "Epoch 113/200\n",
      "559/559 [==============================] - 0s 841us/step - loss: 7078968832.0000 - r2_metric: 0.1353\n",
      "Epoch 114/200\n",
      "559/559 [==============================] - 0s 832us/step - loss: 7067238912.0000 - r2_metric: 0.1359\n",
      "Epoch 115/200\n",
      "559/559 [==============================] - 0s 856us/step - loss: 7051928576.0000 - r2_metric: 0.1391\n",
      "Epoch 116/200\n",
      "559/559 [==============================] - 0s 846us/step - loss: 7072594944.0000 - r2_metric: 0.1371\n",
      "Epoch 117/200\n",
      "559/559 [==============================] - 0s 858us/step - loss: 7054773248.0000 - r2_metric: 0.1400\n",
      "Epoch 118/200\n",
      "559/559 [==============================] - 1s 896us/step - loss: 7057124864.0000 - r2_metric: 0.1374\n",
      "Epoch 119/200\n",
      "559/559 [==============================] - 0s 850us/step - loss: 7060683776.0000 - r2_metric: 0.1378\n",
      "Epoch 120/200\n",
      "559/559 [==============================] - 0s 843us/step - loss: 7040577536.0000 - r2_metric: 0.1398\n",
      "Epoch 121/200\n",
      "559/559 [==============================] - 0s 843us/step - loss: 7055347712.0000 - r2_metric: 0.1393\n",
      "Epoch 122/200\n",
      "559/559 [==============================] - 0s 840us/step - loss: 7083539456.0000 - r2_metric: 0.1347\n",
      "Epoch 123/200\n",
      "559/559 [==============================] - 0s 845us/step - loss: 7072619008.0000 - r2_metric: 0.1359\n",
      "Epoch 124/200\n",
      "559/559 [==============================] - 0s 841us/step - loss: 7060208640.0000 - r2_metric: 0.1376\n",
      "Epoch 125/200\n",
      "559/559 [==============================] - 0s 845us/step - loss: 7042885632.0000 - r2_metric: 0.1410\n",
      "Epoch 126/200\n",
      "559/559 [==============================] - 0s 845us/step - loss: 7062446080.0000 - r2_metric: 0.1374\n",
      "Epoch 127/200\n",
      "559/559 [==============================] - 0s 841us/step - loss: 7049687552.0000 - r2_metric: 0.1399\n",
      "Epoch 128/200\n",
      "559/559 [==============================] - 0s 843us/step - loss: 7067118080.0000 - r2_metric: 0.1364\n",
      "Epoch 129/200\n",
      "559/559 [==============================] - 1s 894us/step - loss: 7081327616.0000 - r2_metric: 0.1341\n",
      "Epoch 130/200\n",
      "559/559 [==============================] - 0s 848us/step - loss: 7066479616.0000 - r2_metric: 0.1390\n",
      "Epoch 131/200\n",
      "559/559 [==============================] - 0s 853us/step - loss: 7065682944.0000 - r2_metric: 0.1375\n",
      "Epoch 132/200\n",
      "559/559 [==============================] - 0s 852us/step - loss: 7089860096.0000 - r2_metric: 0.1325\n",
      "Epoch 133/200\n",
      "559/559 [==============================] - 0s 840us/step - loss: 7045300736.0000 - r2_metric: 0.1410\n",
      "Epoch 134/200\n",
      "559/559 [==============================] - 0s 849us/step - loss: 7046962176.0000 - r2_metric: 0.1391\n",
      "Epoch 135/200\n",
      "559/559 [==============================] - 0s 839us/step - loss: 7042607616.0000 - r2_metric: 0.1405\n",
      "Epoch 136/200\n",
      "559/559 [==============================] - 0s 848us/step - loss: 7076560896.0000 - r2_metric: 0.1356\n",
      "Epoch 137/200\n",
      "559/559 [==============================] - 0s 844us/step - loss: 7060129280.0000 - r2_metric: 0.1388\n",
      "Epoch 138/200\n",
      "559/559 [==============================] - 0s 892us/step - loss: 7049274880.0000 - r2_metric: 0.1401\n",
      "Epoch 139/200\n",
      "559/559 [==============================] - 0s 840us/step - loss: 7042237952.0000 - r2_metric: 0.1397\n",
      "Epoch 140/200\n",
      "559/559 [==============================] - 0s 851us/step - loss: 7054551040.0000 - r2_metric: 0.1378\n",
      "Epoch 141/200\n",
      "559/559 [==============================] - 0s 845us/step - loss: 7052175360.0000 - r2_metric: 0.1381\n",
      "Epoch 142/200\n",
      "559/559 [==============================] - 0s 845us/step - loss: 7046666752.0000 - r2_metric: 0.1390\n",
      "Epoch 143/200\n"
     ]
    },
    {
     "name": "stdout",
     "output_type": "stream",
     "text": [
      "559/559 [==============================] - 0s 858us/step - loss: 7051845632.0000 - r2_metric: 0.1402\n",
      "Epoch 144/200\n",
      "559/559 [==============================] - 0s 840us/step - loss: 7074196992.0000 - r2_metric: 0.1369\n",
      "Epoch 145/200\n",
      "559/559 [==============================] - 0s 843us/step - loss: 7084746240.0000 - r2_metric: 0.1343\n",
      "Epoch 146/200\n",
      "559/559 [==============================] - 0s 841us/step - loss: 7053296640.0000 - r2_metric: 0.1383\n",
      "Epoch 147/200\n",
      "559/559 [==============================] - 0s 842us/step - loss: 7058368512.0000 - r2_metric: 0.1388\n",
      "Epoch 148/200\n",
      "559/559 [==============================] - 0s 832us/step - loss: 7069576704.0000 - r2_metric: 0.1367\n",
      "Epoch 149/200\n",
      "559/559 [==============================] - 0s 840us/step - loss: 7073662464.0000 - r2_metric: 0.1360\n",
      "Epoch 150/200\n",
      "559/559 [==============================] - 0s 829us/step - loss: 7073477120.0000 - r2_metric: 0.1354\n",
      "Epoch 151/200\n",
      "559/559 [==============================] - 0s 855us/step - loss: 7041375744.0000 - r2_metric: 0.1406\n",
      "Epoch 152/200\n",
      "559/559 [==============================] - 0s 892us/step - loss: 7060571648.0000 - r2_metric: 0.1373\n",
      "Epoch 153/200\n",
      "559/559 [==============================] - 0s 838us/step - loss: 7049188864.0000 - r2_metric: 0.1400\n",
      "Epoch 154/200\n",
      "559/559 [==============================] - 0s 872us/step - loss: 7053652992.0000 - r2_metric: 0.1384\n",
      "Epoch 155/200\n",
      "559/559 [==============================] - 0s 855us/step - loss: 7039583744.0000 - r2_metric: 0.1390\n",
      "Epoch 156/200\n",
      "559/559 [==============================] - 0s 833us/step - loss: 7067806720.0000 - r2_metric: 0.1383\n",
      "Epoch 157/200\n",
      "559/559 [==============================] - 0s 841us/step - loss: 7053714944.0000 - r2_metric: 0.1386\n",
      "Epoch 158/200\n",
      "559/559 [==============================] - 0s 825us/step - loss: 7057514496.0000 - r2_metric: 0.1381\n",
      "Epoch 159/200\n",
      "559/559 [==============================] - 0s 839us/step - loss: 7067120640.0000 - r2_metric: 0.1393\n",
      "Epoch 160/200\n",
      "559/559 [==============================] - 0s 871us/step - loss: 7045920768.0000 - r2_metric: 0.1393\n",
      "Epoch 161/200\n",
      "559/559 [==============================] - 1s 943us/step - loss: 7067132928.0000 - r2_metric: 0.1356\n",
      "Epoch 162/200\n",
      "559/559 [==============================] - 1s 1ms/step - loss: 7044204544.0000 - r2_metric: 0.1414\n",
      "Epoch 163/200\n",
      "559/559 [==============================] - 1s 1ms/step - loss: 7044771328.0000 - r2_metric: 0.1409\n",
      "Epoch 164/200\n",
      "559/559 [==============================] - 1s 1ms/step - loss: 7038833664.0000 - r2_metric: 0.1404\n",
      "Epoch 165/200\n",
      "559/559 [==============================] - 0s 845us/step - loss: 7053950464.0000 - r2_metric: 0.1354\n",
      "Epoch 166/200\n",
      "559/559 [==============================] - 0s 851us/step - loss: 7055195136.0000 - r2_metric: 0.1393\n",
      "Epoch 167/200\n",
      "559/559 [==============================] - 0s 836us/step - loss: 7037285376.0000 - r2_metric: 0.1412\n",
      "Epoch 168/200\n",
      "559/559 [==============================] - 0s 843us/step - loss: 7036096000.0000 - r2_metric: 0.1417\n",
      "Epoch 169/200\n",
      "559/559 [==============================] - 1s 947us/step - loss: 7041807872.0000 - r2_metric: 0.1409\n",
      "Epoch 170/200\n",
      "559/559 [==============================] - 0s 873us/step - loss: 7040026624.0000 - r2_metric: 0.1385\n",
      "Epoch 171/200\n",
      "559/559 [==============================] - 0s 859us/step - loss: 7046808064.0000 - r2_metric: 0.1395\n",
      "Epoch 172/200\n",
      "559/559 [==============================] - 0s 845us/step - loss: 7067580928.0000 - r2_metric: 0.1376\n",
      "Epoch 173/200\n",
      "559/559 [==============================] - 1s 1ms/step - loss: 7040668160.0000 - r2_metric: 0.1399\n",
      "Epoch 174/200\n",
      "559/559 [==============================] - 1s 1ms/step - loss: 7041207296.0000 - r2_metric: 0.1415\n",
      "Epoch 175/200\n",
      "559/559 [==============================] - 1s 1ms/step - loss: 7041763328.0000 - r2_metric: 0.1388\n",
      "Epoch 176/200\n",
      "559/559 [==============================] - 1s 1ms/step - loss: 7094483968.0000 - r2_metric: 0.1335\n",
      "Epoch 177/200\n",
      "559/559 [==============================] - 0s 888us/step - loss: 7024549888.0000 - r2_metric: 0.1434\n",
      "Epoch 178/200\n",
      "559/559 [==============================] - 0s 878us/step - loss: 7060872192.0000 - r2_metric: 0.1379\n",
      "Epoch 179/200\n",
      "559/559 [==============================] - 0s 875us/step - loss: 7046551040.0000 - r2_metric: 0.1411\n",
      "Epoch 180/200\n",
      "559/559 [==============================] - 1s 934us/step - loss: 7051333120.0000 - r2_metric: 0.1382\n",
      "Epoch 181/200\n",
      "559/559 [==============================] - 0s 879us/step - loss: 7037292032.0000 - r2_metric: 0.1391\n",
      "Epoch 182/200\n",
      "559/559 [==============================] - 1s 978us/step - loss: 7061434368.0000 - r2_metric: 0.1384\n",
      "Epoch 183/200\n",
      "559/559 [==============================] - 1s 931us/step - loss: 7064813056.0000 - r2_metric: 0.1371\n",
      "Epoch 184/200\n",
      "559/559 [==============================] - 1s 931us/step - loss: 7041438208.0000 - r2_metric: 0.1411\n",
      "Epoch 185/200\n",
      "559/559 [==============================] - 1s 923us/step - loss: 7051257344.0000 - r2_metric: 0.1390\n",
      "Epoch 186/200\n",
      "559/559 [==============================] - 1s 949us/step - loss: 7032445440.0000 - r2_metric: 0.1404\n",
      "Epoch 187/200\n",
      "559/559 [==============================] - 1s 917us/step - loss: 7055475712.0000 - r2_metric: 0.1389\n",
      "Epoch 188/200\n",
      "559/559 [==============================] - 1s 935us/step - loss: 7043607040.0000 - r2_metric: 0.1402\n",
      "Epoch 189/200\n",
      "559/559 [==============================] - 1s 933us/step - loss: 7043636224.0000 - r2_metric: 0.1402\n",
      "Epoch 190/200\n",
      "559/559 [==============================] - 1s 935us/step - loss: 7053305856.0000 - r2_metric: 0.1375\n",
      "Epoch 191/200\n",
      "559/559 [==============================] - 1s 986us/step - loss: 7065298944.0000 - r2_metric: 0.1376\n",
      "Epoch 192/200\n",
      "559/559 [==============================] - 1s 916us/step - loss: 7062179840.0000 - r2_metric: 0.1371\n",
      "Epoch 193/200\n",
      "559/559 [==============================] - 1s 897us/step - loss: 7045097984.0000 - r2_metric: 0.1398\n",
      "Epoch 194/200\n",
      "559/559 [==============================] - 0s 873us/step - loss: 7037181952.0000 - r2_metric: 0.1392\n",
      "Epoch 195/200\n",
      "559/559 [==============================] - 0s 876us/step - loss: 7049223680.0000 - r2_metric: 0.1399\n",
      "Epoch 196/200\n",
      "559/559 [==============================] - 1s 943us/step - loss: 7053042688.0000 - r2_metric: 0.1388\n",
      "Epoch 197/200\n",
      "559/559 [==============================] - 1s 1ms/step - loss: 7027786240.0000 - r2_metric: 0.1393\n",
      "Epoch 198/200\n",
      "559/559 [==============================] - 1s 934us/step - loss: 7039904256.0000 - r2_metric: 0.1406\n",
      "Epoch 199/200\n",
      "559/559 [==============================] - 1s 954us/step - loss: 7039102976.0000 - r2_metric: 0.1388\n",
      "Epoch 200/200\n",
      "559/559 [==============================] - 1s 926us/step - loss: 7044817408.0000 - r2_metric: 0.1412\n"
     ]
    },
    {
     "data": {
      "text/plain": [
       "<keras.callbacks.History at 0x299064be280>"
      ]
     },
     "execution_count": 131,
     "metadata": {},
     "output_type": "execute_result"
    }
   ],
   "source": [
    "\n",
    "\n",
    "# Assume that X_train and y_train are the training data and labels, respectively\n",
    "\n",
    "# Define the model architecture\n",
    "model = keras.Sequential()\n",
    "model.add(keras.layers.Dense(64, activation='relu', input_shape=(X_train.shape[1],)))\n",
    "model.add(keras.layers.Dense(64, activation='relu'))\n",
    "model.add(keras.layers.Dense(32, activation='relu'))\n",
    "model.add(keras.layers.Dense(1))\n",
    "\n",
    "# Compile the model\n",
    "#model.compile(optimizer='adam', loss='mean_squared_error', metrics=['mae'])\n",
    "model.compile(optimizer='adam', loss='mean_squared_error', metrics=[r2_metric])\n",
    "\n",
    "\n",
    "# Train the model\n",
    "model.fit(X_train, y_train, epochs=200, batch_size=128)\n"
   ]
  },
  {
   "cell_type": "code",
   "execution_count": 132,
   "id": "2afea81e",
   "metadata": {},
   "outputs": [
    {
     "name": "stdout",
     "output_type": "stream",
     "text": [
      "559/559 [==============================] - 0s 579us/step\n"
     ]
    },
    {
     "data": {
      "text/plain": [
       "0.15173534416082846"
      ]
     },
     "execution_count": 132,
     "metadata": {},
     "output_type": "execute_result"
    }
   ],
   "source": [
    "y_pred =model.predict(X_test)\n",
    "r2_score(y_test,y_pred)"
   ]
  },
  {
   "cell_type": "code",
   "execution_count": null,
   "id": "01f37532",
   "metadata": {},
   "outputs": [],
   "source": []
  },
  {
   "cell_type": "code",
   "execution_count": 92,
   "id": "124e775a",
   "metadata": {},
   "outputs": [],
   "source": [
    "#temp_score= set()"
   ]
  },
  {
   "cell_type": "code",
   "execution_count": 95,
   "id": "0e86d7ef",
   "metadata": {},
   "outputs": [
    {
     "data": {
      "text/plain": [
       "0.1600810586928051"
      ]
     },
     "execution_count": 95,
     "metadata": {},
     "output_type": "execute_result"
    }
   ],
   "source": [
    "try :\n",
    "    score=r2_score(y_test,y_pred)\n",
    "    temp_score.add(score)\n",
    "except:\n",
    "    print(\"Score are same\")\n",
    "    \n",
    "score    "
   ]
  },
  {
   "cell_type": "code",
   "execution_count": null,
   "id": "8cd6f8c1",
   "metadata": {},
   "outputs": [],
   "source": []
  },
  {
   "cell_type": "code",
   "execution_count": null,
   "id": "56bfddda",
   "metadata": {},
   "outputs": [],
   "source": []
  }
 ],
 "metadata": {
  "kernelspec": {
   "display_name": "Python 3 (ipykernel)",
   "language": "python",
   "name": "python3"
  },
  "language_info": {
   "codemirror_mode": {
    "name": "ipython",
    "version": 3
   },
   "file_extension": ".py",
   "mimetype": "text/x-python",
   "name": "python",
   "nbconvert_exporter": "python",
   "pygments_lexer": "ipython3",
   "version": "3.9.12"
  }
 },
 "nbformat": 4,
 "nbformat_minor": 5
}
